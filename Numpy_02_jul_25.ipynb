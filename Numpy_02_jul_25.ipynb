{
 "cells": [
  {
   "cell_type": "markdown",
   "id": "644e770c",
   "metadata": {},
   "source": [
    "# Array Manipulation"
   ]
  },
  {
   "cell_type": "code",
   "execution_count": 65,
   "id": "54ef0129",
   "metadata": {},
   "outputs": [],
   "source": [
    "import numpy as np"
   ]
  },
  {
   "cell_type": "code",
   "execution_count": 66,
   "id": "1e5b35f8",
   "metadata": {},
   "outputs": [],
   "source": [
    "a1 = np.array([1,2,3,4,5,6,7,8,9])\n",
    "\n",
    "a2= np.array([\n",
    "    [10,20,30],\n",
    "    [40,50,60],\n",
    "    [70,80,90]\n",
    "])\n",
    "\n",
    "a3= np.array([\n",
    "    [[10,20,30],\n",
    "    [40,50,60],\n",
    "    [70,80,90]],\n",
    "     \n",
    "    [[10,20,30],\n",
    "    [40,50,60],\n",
    "    [70,80,90]]])\n"
   ]
  },
  {
   "cell_type": "markdown",
   "id": "0b2c00d0",
   "metadata": {},
   "source": [
    "# Size Of Array"
   ]
  },
  {
   "cell_type": "code",
   "execution_count": 67,
   "id": "c6f46390",
   "metadata": {},
   "outputs": [
    {
     "data": {
      "text/plain": [
       "9"
      ]
     },
     "execution_count": 67,
     "metadata": {},
     "output_type": "execute_result"
    }
   ],
   "source": [
    "a1.size"
   ]
  },
  {
   "cell_type": "code",
   "execution_count": 68,
   "id": "22f9f7c0",
   "metadata": {},
   "outputs": [
    {
     "data": {
      "text/plain": [
       "9"
      ]
     },
     "execution_count": 68,
     "metadata": {},
     "output_type": "execute_result"
    }
   ],
   "source": [
    "a2.size"
   ]
  },
  {
   "cell_type": "code",
   "execution_count": 69,
   "id": "fb4bebb6",
   "metadata": {},
   "outputs": [
    {
     "data": {
      "text/plain": [
       "18"
      ]
     },
     "execution_count": 69,
     "metadata": {},
     "output_type": "execute_result"
    }
   ],
   "source": [
    "a3.size"
   ]
  },
  {
   "cell_type": "markdown",
   "id": "2a9b72c9",
   "metadata": {},
   "source": [
    "# # Shape Of Array"
   ]
  },
  {
   "cell_type": "code",
   "execution_count": 70,
   "id": "15e69cdf",
   "metadata": {},
   "outputs": [
    {
     "data": {
      "text/plain": [
       "(9,)"
      ]
     },
     "execution_count": 70,
     "metadata": {},
     "output_type": "execute_result"
    }
   ],
   "source": [
    "a1.shape"
   ]
  },
  {
   "cell_type": "code",
   "execution_count": 71,
   "id": "bcd0b140",
   "metadata": {},
   "outputs": [
    {
     "data": {
      "text/plain": [
       "(2, 3, 3)"
      ]
     },
     "execution_count": 71,
     "metadata": {},
     "output_type": "execute_result"
    }
   ],
   "source": [
    "a3.shape"
   ]
  },
  {
   "cell_type": "markdown",
   "id": "aae7838e",
   "metadata": {},
   "source": [
    "# Dimention Of Array"
   ]
  },
  {
   "cell_type": "code",
   "execution_count": 72,
   "id": "28933b53",
   "metadata": {},
   "outputs": [
    {
     "data": {
      "text/plain": [
       "3"
      ]
     },
     "execution_count": 72,
     "metadata": {},
     "output_type": "execute_result"
    }
   ],
   "source": [
    "a3.ndim"
   ]
  },
  {
   "cell_type": "code",
   "execution_count": 73,
   "id": "dec8c11d",
   "metadata": {},
   "outputs": [
    {
     "data": {
      "text/plain": [
       "2"
      ]
     },
     "execution_count": 73,
     "metadata": {},
     "output_type": "execute_result"
    }
   ],
   "source": [
    "a2.ndim"
   ]
  },
  {
   "cell_type": "markdown",
   "id": "b7e2560d",
   "metadata": {},
   "source": [
    "# np.may_share_memory()"
   ]
  },
  {
   "cell_type": "markdown",
   "id": "fe489862",
   "metadata": {},
   "source": [
    "NumPy to check if two arrays might share the same memory block"
   ]
  },
  {
   "cell_type": "markdown",
   "id": "d3dd8f30",
   "metadata": {},
   "source": [
    "# Flattening Of Array\n"
   ]
  },
  {
   "cell_type": "markdown",
   "id": "bdcbd271",
   "metadata": {},
   "source": [
    "Returns a copy of the original array\n",
    "\n",
    "Modifying the flattened array does NOT affect the original\n",
    "\n",
    "Always returns a 1D array\n"
   ]
  },
  {
   "cell_type": "code",
   "execution_count": 74,
   "id": "305bd7a8",
   "metadata": {},
   "outputs": [
    {
     "data": {
      "text/plain": [
       "array([10, 20, 30, 40, 50, 60, 70, 80, 90, 10, 20, 30, 40, 50, 60, 70, 80,\n",
       "       90])"
      ]
     },
     "execution_count": 74,
     "metadata": {},
     "output_type": "execute_result"
    }
   ],
   "source": [
    "a3_b=a3.flatten()\n",
    "a3_b"
   ]
  },
  {
   "cell_type": "code",
   "execution_count": 75,
   "id": "b1652bbe",
   "metadata": {},
   "outputs": [
    {
     "data": {
      "text/plain": [
       "False"
      ]
     },
     "execution_count": 75,
     "metadata": {},
     "output_type": "execute_result"
    }
   ],
   "source": [
    "np.may_share_memory(a3,a3_b)"
   ]
  },
  {
   "cell_type": "markdown",
   "id": "9d901b8d",
   "metadata": {},
   "source": [
    "# Ravel of Array"
   ]
  },
  {
   "cell_type": "markdown",
   "id": "1299e764",
   "metadata": {},
   "source": [
    "Returns a view (if possible); i.e., no data is copied\n",
    "\n",
    "Modifying it may affect the original (if it's a view)\n",
    "\n",
    "Faster than flatten() because it avoids copying when possible"
   ]
  },
  {
   "cell_type": "code",
   "execution_count": 76,
   "id": "7221e6bb",
   "metadata": {},
   "outputs": [],
   "source": [
    "a3_b=a3.ravel()"
   ]
  },
  {
   "cell_type": "code",
   "execution_count": 77,
   "id": "03a0ae41",
   "metadata": {},
   "outputs": [
    {
     "data": {
      "text/plain": [
       "True"
      ]
     },
     "execution_count": 77,
     "metadata": {},
     "output_type": "execute_result"
    }
   ],
   "source": [
    "np.may_share_memory(a3,a3_b)"
   ]
  },
  {
   "cell_type": "code",
   "execution_count": 78,
   "id": "0cf907d8",
   "metadata": {},
   "outputs": [
    {
     "data": {
      "text/plain": [
       "array([[[10, 20, 30],\n",
       "        [40, 50, 60],\n",
       "        [70, 80, 90]],\n",
       "\n",
       "       [[10, 20, 30],\n",
       "        [40, 50, 60],\n",
       "        [70, 80, 90]]])"
      ]
     },
     "execution_count": 78,
     "metadata": {},
     "output_type": "execute_result"
    }
   ],
   "source": [
    "a3"
   ]
  },
  {
   "cell_type": "markdown",
   "id": "76c37747",
   "metadata": {},
   "source": [
    "# Reshape of Array\n",
    "Total number of elements must remain the same before and after reshaping.      \n",
    "\"To reshape an array, total elements must match — choose two numbers that multiply to that total.\""
   ]
  },
  {
   "cell_type": "code",
   "execution_count": 79,
   "id": "28ccf20b",
   "metadata": {},
   "outputs": [],
   "source": [
    "a3_c=a3"
   ]
  },
  {
   "cell_type": "code",
   "execution_count": 80,
   "id": "64396d5e",
   "metadata": {},
   "outputs": [],
   "source": [
    "a3=a3_c.ravel()\n"
   ]
  },
  {
   "cell_type": "code",
   "execution_count": 81,
   "id": "66568b55",
   "metadata": {},
   "outputs": [
    {
     "data": {
      "text/plain": [
       "array([[[10, 20],\n",
       "        [30, 40],\n",
       "        [50, 60]],\n",
       "\n",
       "       [[70, 80],\n",
       "        [90, 10],\n",
       "        [20, 30]],\n",
       "\n",
       "       [[40, 50],\n",
       "        [60, 70],\n",
       "        [80, 90]]])"
      ]
     },
     "execution_count": 81,
     "metadata": {},
     "output_type": "execute_result"
    }
   ],
   "source": [
    "a3.reshape(3,3,2)"
   ]
  },
  {
   "cell_type": "code",
   "execution_count": 82,
   "id": "9a178ff6",
   "metadata": {},
   "outputs": [
    {
     "data": {
      "text/plain": [
       "array([[[10, 20, 30],\n",
       "        [40, 50, 60],\n",
       "        [70, 80, 90]],\n",
       "\n",
       "       [[10, 20, 30],\n",
       "        [40, 50, 60],\n",
       "        [70, 80, 90]]])"
      ]
     },
     "execution_count": 82,
     "metadata": {},
     "output_type": "execute_result"
    }
   ],
   "source": [
    "a3_c.reshape(2,3,3).copy()"
   ]
  },
  {
   "cell_type": "code",
   "execution_count": 83,
   "id": "ba0ba7e2",
   "metadata": {},
   "outputs": [],
   "source": [
    "a3=a3_c.flatten()"
   ]
  },
  {
   "cell_type": "code",
   "execution_count": 84,
   "id": "394b5762",
   "metadata": {},
   "outputs": [
    {
     "data": {
      "text/plain": [
       "False"
      ]
     },
     "execution_count": 84,
     "metadata": {},
     "output_type": "execute_result"
    }
   ],
   "source": [
    "np.may_share_memory(a3,a3_c)"
   ]
  },
  {
   "cell_type": "markdown",
   "id": "25af7e8d",
   "metadata": {},
   "source": [
    "# Expend Dimention\n",
    "Add extra 1 dimention by axis=? where u want"
   ]
  },
  {
   "cell_type": "code",
   "execution_count": 85,
   "id": "0f60fcfe",
   "metadata": {},
   "outputs": [
    {
     "data": {
      "text/plain": [
       "(3, 3)"
      ]
     },
     "execution_count": 85,
     "metadata": {},
     "output_type": "execute_result"
    }
   ],
   "source": [
    "a2.shape"
   ]
  },
  {
   "cell_type": "code",
   "execution_count": 86,
   "id": "d4774914",
   "metadata": {},
   "outputs": [
    {
     "data": {
      "text/plain": [
       "(1, 3, 3)"
      ]
     },
     "execution_count": 86,
     "metadata": {},
     "output_type": "execute_result"
    }
   ],
   "source": [
    "np.expand_dims(a2,axis=0).shape"
   ]
  },
  {
   "cell_type": "code",
   "execution_count": 87,
   "id": "8685ab09",
   "metadata": {},
   "outputs": [
    {
     "data": {
      "text/plain": [
       "(3, 3, 1)"
      ]
     },
     "execution_count": 87,
     "metadata": {},
     "output_type": "execute_result"
    }
   ],
   "source": [
    "np.expand_dims(a2,axis=2).shape"
   ]
  },
  {
   "cell_type": "markdown",
   "id": "81fc4505",
   "metadata": {},
   "source": [
    "# Squeeze Dimention\n",
    "squeeze() is used to remove dimensions of size 1 from an array's shape."
   ]
  },
  {
   "cell_type": "code",
   "execution_count": 88,
   "id": "32447b39",
   "metadata": {},
   "outputs": [
    {
     "data": {
      "text/plain": [
       "(3, 3)"
      ]
     },
     "execution_count": 88,
     "metadata": {},
     "output_type": "execute_result"
    }
   ],
   "source": [
    "np.squeeze(a2).shape"
   ]
  },
  {
   "cell_type": "markdown",
   "id": "27cf0584",
   "metadata": {},
   "source": [
    "# Stak\n",
    "joins multiple arrays along a new axis."
   ]
  },
  {
   "cell_type": "code",
   "execution_count": 89,
   "id": "8f376e2d",
   "metadata": {},
   "outputs": [],
   "source": [
    "a = np.array([1,2,3,4,5,6,7,8,9,10])\n",
    "b = np.array([11,22,33,44,55,66,77,88,99,100])"
   ]
  },
  {
   "cell_type": "code",
   "execution_count": 90,
   "id": "83c8c678",
   "metadata": {},
   "outputs": [
    {
     "data": {
      "text/plain": [
       "array([[  1,   2,   3,   4,   5,   6,   7,   8,   9,  10],\n",
       "       [ 11,  22,  33,  44,  55,  66,  77,  88,  99, 100]])"
      ]
     },
     "execution_count": 90,
     "metadata": {},
     "output_type": "execute_result"
    }
   ],
   "source": [
    "np.vstack((a,b))"
   ]
  },
  {
   "cell_type": "code",
   "execution_count": 91,
   "id": "d2a8306f",
   "metadata": {},
   "outputs": [
    {
     "data": {
      "text/plain": [
       "array([ 11,  22,  33,  44,  55,  66,  77,  88,  99, 100,   1,   2,   3,\n",
       "         4,   5,   6,   7,   8,   9,  10])"
      ]
     },
     "execution_count": 91,
     "metadata": {},
     "output_type": "execute_result"
    }
   ],
   "source": [
    "np.hstack((b,a))"
   ]
  },
  {
   "cell_type": "markdown",
   "id": "fbaa432f",
   "metadata": {},
   "source": [
    "# Split of Array\n",
    "Strict splitting: You must split the array into equal-sized chunks.\n",
    "\n",
    "❌ Throws an error if the array can't be divided exactly.\n",
    "\n"
   ]
  },
  {
   "cell_type": "code",
   "execution_count": 92,
   "id": "1066aeec",
   "metadata": {},
   "outputs": [
    {
     "data": {
      "text/plain": [
       "[array([11, 22]),\n",
       " array([33, 44]),\n",
       " array([55, 66]),\n",
       " array([77, 88]),\n",
       " array([ 99, 100])]"
      ]
     },
     "execution_count": 92,
     "metadata": {},
     "output_type": "execute_result"
    }
   ],
   "source": [
    "np.split(b,5)"
   ]
  },
  {
   "cell_type": "markdown",
   "id": "a01fd46d",
   "metadata": {},
   "source": []
  },
  {
   "cell_type": "code",
   "execution_count": 93,
   "id": "b387bdae",
   "metadata": {},
   "outputs": [],
   "source": [
    "c = np.array([1,2,3,4,5,6,7,8,9,1,2,3,4,5,6,7,8,2,3,4,5,6,8,3,4,5,6,7,3,4,5,6,7])"
   ]
  },
  {
   "cell_type": "markdown",
   "id": "56a8743a",
   "metadata": {},
   "source": [
    "# array_split()\n",
    "✅ Flexible splitting: It allows unequal chunk sizes.\n",
    "\n",
    "No error if split is not exact — it just balances as evenly as possible."
   ]
  },
  {
   "cell_type": "code",
   "execution_count": 94,
   "id": "8788f6ac",
   "metadata": {},
   "outputs": [
    {
     "data": {
      "text/plain": [
       "[array([1, 2, 3, 4]),\n",
       " array([5, 6, 7, 8]),\n",
       " array([9, 1, 2, 3]),\n",
       " array([4, 5, 6, 7]),\n",
       " array([8, 2, 3, 4]),\n",
       " array([5, 6, 8, 3]),\n",
       " array([4, 5, 6]),\n",
       " array([7, 3, 4]),\n",
       " array([5, 6, 7])]"
      ]
     },
     "execution_count": 94,
     "metadata": {},
     "output_type": "execute_result"
    }
   ],
   "source": [
    "np.array_split(c,9)"
   ]
  },
  {
   "cell_type": "markdown",
   "id": "b4d6fd17",
   "metadata": {},
   "source": [
    "# Delete\n",
    "it return new array."
   ]
  },
  {
   "cell_type": "code",
   "execution_count": 95,
   "id": "784ca85e",
   "metadata": {},
   "outputs": [
    {
     "data": {
      "text/plain": [
       "array([1, 2, 3, 4, 6, 7, 8, 9, 1, 2, 3, 4, 5, 6, 7, 8, 2, 3, 4, 5, 6, 8,\n",
       "       3, 4, 5, 6, 7, 3, 4, 5, 6, 7])"
      ]
     },
     "execution_count": 95,
     "metadata": {},
     "output_type": "execute_result"
    }
   ],
   "source": [
    "d = np.delete(c,4)\n",
    "d"
   ]
  },
  {
   "cell_type": "markdown",
   "id": "34401bfb",
   "metadata": {},
   "source": [
    "# Insurt"
   ]
  },
  {
   "cell_type": "code",
   "execution_count": 96,
   "id": "4e8b860b",
   "metadata": {},
   "outputs": [
    {
     "data": {
      "text/plain": [
       "array([ 1,  2, 11,  3,  4,  5,  6,  7,  8,  9, 10])"
      ]
     },
     "execution_count": 96,
     "metadata": {},
     "output_type": "execute_result"
    }
   ],
   "source": [
    "e = np.insert(a,2,11)\n",
    "e"
   ]
  },
  {
   "cell_type": "code",
   "execution_count": null,
   "id": "93acb949",
   "metadata": {},
   "outputs": [],
   "source": []
  }
 ],
 "metadata": {
  "kernelspec": {
   "display_name": "base",
   "language": "python",
   "name": "python3"
  },
  "language_info": {
   "codemirror_mode": {
    "name": "ipython",
    "version": 3
   },
   "file_extension": ".py",
   "mimetype": "text/x-python",
   "name": "python",
   "nbconvert_exporter": "python",
   "pygments_lexer": "ipython3",
   "version": "3.11.4"
  }
 },
 "nbformat": 4,
 "nbformat_minor": 5
}
