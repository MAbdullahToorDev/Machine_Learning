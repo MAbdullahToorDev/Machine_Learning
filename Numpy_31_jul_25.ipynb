{
 "cells": [
  {
   "cell_type": "markdown",
   "id": "e2556a49",
   "metadata": {},
   "source": [
    "# NumPy (Numerical Python) is a Python library used for fast mathematical operations on large arrays and matrices"
   ]
  },
  {
   "cell_type": "code",
   "execution_count": 1,
   "id": "dfc92433",
   "metadata": {},
   "outputs": [],
   "source": [
    "import numpy as np"
   ]
  },
  {
   "cell_type": "code",
   "execution_count": 2,
   "id": "b610b4ef",
   "metadata": {},
   "outputs": [
    {
     "data": {
      "text/plain": [
       "array([1, 2, 3, 4, 5, 6, 7, 8, 9, 0])"
      ]
     },
     "execution_count": 2,
     "metadata": {},
     "output_type": "execute_result"
    }
   ],
   "source": [
    "np.array([1,2,3,4,5,6,7,8,9,0])"
   ]
  },
  {
   "cell_type": "code",
   "execution_count": 4,
   "id": "14b41923",
   "metadata": {},
   "outputs": [
    {
     "data": {
      "text/plain": [
       "array([[1, 2, 3],\n",
       "       [4, 5, 6]])"
      ]
     },
     "execution_count": 4,
     "metadata": {},
     "output_type": "execute_result"
    }
   ],
   "source": [
    "np.array([\n",
    "    [1,2,3],\n",
    "    [4,5,6]\n",
    "    ])"
   ]
  },
  {
   "cell_type": "markdown",
   "id": "52d0a384",
   "metadata": {},
   "source": []
  },
  {
   "cell_type": "code",
   "execution_count": 6,
   "id": "457827ca",
   "metadata": {},
   "outputs": [
    {
     "data": {
      "text/plain": [
       "array([[1, 2, 3],\n",
       "       [4, 5, 6],\n",
       "       [7, 8, 9]])"
      ]
     },
     "execution_count": 6,
     "metadata": {},
     "output_type": "execute_result"
    }
   ],
   "source": [
    "np.array([[1,2,3],\n",
    "          [4,5,6],\n",
    "          [7,8,9]])"
   ]
  },
  {
   "cell_type": "code",
   "execution_count": 7,
   "id": "b088109b",
   "metadata": {},
   "outputs": [
    {
     "data": {
      "text/plain": [
       "array([[[1, 2, 3],\n",
       "        [1, 2, 3],\n",
       "        [1, 2, 3]],\n",
       "\n",
       "       [[1, 2, 3],\n",
       "        [1, 2, 3],\n",
       "        [1, 2, 3]]])"
      ]
     },
     "execution_count": 7,
     "metadata": {},
     "output_type": "execute_result"
    }
   ],
   "source": [
    "np.array([[[1,2,3],\n",
    "           [1,2,3],\n",
    "           [1,2,3]],\n",
    "           \n",
    "           [[1,2,3],\n",
    "           [1,2,3],\n",
    "           [1,2,3]]])"
   ]
  },
  {
   "cell_type": "code",
   "execution_count": 8,
   "id": "b1f999a2",
   "metadata": {},
   "outputs": [
    {
     "data": {
      "text/plain": [
       "array([0., 0., 0., 0., 0., 0., 0., 0., 0., 0.])"
      ]
     },
     "execution_count": 8,
     "metadata": {},
     "output_type": "execute_result"
    }
   ],
   "source": [
    "np.zeros(10)"
   ]
  },
  {
   "cell_type": "code",
   "execution_count": 17,
   "id": "b2be485a",
   "metadata": {},
   "outputs": [
    {
     "data": {
      "text/plain": [
       "array([[0., 0., 0.],\n",
       "       [0., 0., 0.]])"
      ]
     },
     "execution_count": 17,
     "metadata": {},
     "output_type": "execute_result"
    }
   ],
   "source": [
    "np.zeros((2,3))"
   ]
  },
  {
   "cell_type": "code",
   "execution_count": 18,
   "id": "ee1defdf",
   "metadata": {},
   "outputs": [
    {
     "data": {
      "text/plain": [
       "array([[[0., 0., 0., 0., 0.],\n",
       "        [0., 0., 0., 0., 0.],\n",
       "        [0., 0., 0., 0., 0.],\n",
       "        [0., 0., 0., 0., 0.]],\n",
       "\n",
       "       [[0., 0., 0., 0., 0.],\n",
       "        [0., 0., 0., 0., 0.],\n",
       "        [0., 0., 0., 0., 0.],\n",
       "        [0., 0., 0., 0., 0.]],\n",
       "\n",
       "       [[0., 0., 0., 0., 0.],\n",
       "        [0., 0., 0., 0., 0.],\n",
       "        [0., 0., 0., 0., 0.],\n",
       "        [0., 0., 0., 0., 0.]]])"
      ]
     },
     "execution_count": 18,
     "metadata": {},
     "output_type": "execute_result"
    }
   ],
   "source": [
    "np.zeros((3,4,5))"
   ]
  },
  {
   "cell_type": "code",
   "execution_count": 19,
   "id": "6421c978",
   "metadata": {},
   "outputs": [
    {
     "data": {
      "text/plain": [
       "array([[1., 1., 1., 1., 1.],\n",
       "       [1., 1., 1., 1., 1.],\n",
       "       [1., 1., 1., 1., 1.],\n",
       "       [1., 1., 1., 1., 1.]])"
      ]
     },
     "execution_count": 19,
     "metadata": {},
     "output_type": "execute_result"
    }
   ],
   "source": [
    "np.ones((4,5))"
   ]
  },
  {
   "cell_type": "code",
   "execution_count": 20,
   "id": "5152e591",
   "metadata": {},
   "outputs": [
    {
     "data": {
      "text/plain": [
       "array([4, 4, 4, 4, 4])"
      ]
     },
     "execution_count": 20,
     "metadata": {},
     "output_type": "execute_result"
    }
   ],
   "source": [
    "np.full(5,4)"
   ]
  },
  {
   "cell_type": "code",
   "execution_count": 21,
   "id": "ad99f6af",
   "metadata": {},
   "outputs": [
    {
     "data": {
      "text/plain": [
       "array([[9, 9],\n",
       "       [9, 9],\n",
       "       [9, 9]])"
      ]
     },
     "execution_count": 21,
     "metadata": {},
     "output_type": "execute_result"
    }
   ],
   "source": [
    "np.full((3,2),9)"
   ]
  },
  {
   "cell_type": "markdown",
   "id": "5ecd11c6",
   "metadata": {},
   "source": [
    "#  Identity Matrix"
   ]
  },
  {
   "cell_type": "code",
   "execution_count": 22,
   "id": "65dbe5c9",
   "metadata": {},
   "outputs": [
    {
     "data": {
      "text/plain": [
       "array([[1., 0., 0., 0., 0.],\n",
       "       [0., 1., 0., 0., 0.],\n",
       "       [0., 0., 1., 0., 0.],\n",
       "       [0., 0., 0., 1., 0.],\n",
       "       [0., 0., 0., 0., 1.]])"
      ]
     },
     "execution_count": 22,
     "metadata": {},
     "output_type": "execute_result"
    }
   ],
   "source": [
    "np.eye(5)"
   ]
  },
  {
   "cell_type": "markdown",
   "id": "88c1bce8",
   "metadata": {},
   "source": [
    "# Diagonal Matrix"
   ]
  },
  {
   "cell_type": "code",
   "execution_count": 25,
   "id": "960eda90",
   "metadata": {},
   "outputs": [
    {
     "data": {
      "text/plain": [
       "array([[1, 0, 0, 0, 0],\n",
       "       [0, 2, 0, 0, 0],\n",
       "       [0, 0, 3, 0, 0],\n",
       "       [0, 0, 0, 4, 0],\n",
       "       [0, 0, 0, 0, 5]])"
      ]
     },
     "execution_count": 25,
     "metadata": {},
     "output_type": "execute_result"
    }
   ],
   "source": [
    "np.diag([1,2,3,4,5])"
   ]
  },
  {
   "cell_type": "markdown",
   "id": "3db94d60",
   "metadata": {},
   "source": [
    "# Range Matrix "
   ]
  },
  {
   "cell_type": "code",
   "execution_count": 26,
   "id": "04dc6e5a",
   "metadata": {},
   "outputs": [
    {
     "data": {
      "text/plain": [
       "array([ 1,  2,  3,  4,  5,  6,  7,  8,  9, 10])"
      ]
     },
     "execution_count": 26,
     "metadata": {},
     "output_type": "execute_result"
    }
   ],
   "source": [
    "np.arange(1,11)"
   ]
  },
  {
   "cell_type": "markdown",
   "id": "78e71f80",
   "metadata": {},
   "source": [
    "# Range Matrix skip 2"
   ]
  },
  {
   "cell_type": "code",
   "execution_count": 27,
   "id": "ec7810ca",
   "metadata": {},
   "outputs": [
    {
     "data": {
      "text/plain": [
       "array([1, 3, 5, 7, 9])"
      ]
     },
     "execution_count": 27,
     "metadata": {},
     "output_type": "execute_result"
    }
   ],
   "source": [
    "np.arange(1,10,2)"
   ]
  },
  {
   "cell_type": "markdown",
   "id": "aa93b6ff",
   "metadata": {},
   "source": [
    "# Linespace in 2 number"
   ]
  },
  {
   "cell_type": "code",
   "execution_count": 29,
   "id": "b69a6af6",
   "metadata": {},
   "outputs": [
    {
     "data": {
      "text/plain": [
       "array([ 1. ,  2.8,  4.6,  6.4,  8.2, 10. ])"
      ]
     },
     "execution_count": 29,
     "metadata": {},
     "output_type": "execute_result"
    }
   ],
   "source": [
    "np.linspace(1,10,6)"
   ]
  },
  {
   "cell_type": "markdown",
   "id": "a02d0b9e",
   "metadata": {},
   "source": [
    "Randam Array"
   ]
  },
  {
   "cell_type": "code",
   "execution_count": 31,
   "id": "12f4ebd7",
   "metadata": {},
   "outputs": [
    {
     "data": {
      "text/plain": [
       "array([[0.88898413, 0.49591611, 0.56902969],\n",
       "       [0.02682617, 0.10876498, 0.45837073]])"
      ]
     },
     "execution_count": 31,
     "metadata": {},
     "output_type": "execute_result"
    }
   ],
   "source": [
    "np.random.rand(2,3)"
   ]
  },
  {
   "cell_type": "code",
   "execution_count": 32,
   "id": "2422360b",
   "metadata": {},
   "outputs": [
    {
     "data": {
      "text/plain": [
       "array([[0.58614593, 0.82487149, 0.72954744, 0.32775492],\n",
       "       [0.08791579, 0.64606592, 0.71271895, 0.66639176],\n",
       "       [0.7252934 , 0.36886735, 0.76640865, 0.27761431]])"
      ]
     },
     "execution_count": 32,
     "metadata": {},
     "output_type": "execute_result"
    }
   ],
   "source": [
    "np.random.rand(3,4)"
   ]
  },
  {
   "cell_type": "code",
   "execution_count": 33,
   "id": "46fbe8b1",
   "metadata": {},
   "outputs": [
    {
     "data": {
      "text/plain": [
       "array([[[0.62184875, 0.05223696, 0.81297201, 0.74487564],\n",
       "        [0.49949203, 0.0297699 , 0.4366514 , 0.43074788],\n",
       "        [0.12871346, 0.76677438, 0.74203418, 0.72741391]],\n",
       "\n",
       "       [[0.15834325, 0.02727695, 0.80744775, 0.49893781],\n",
       "        [0.30461078, 0.18862594, 0.87021999, 0.62048571],\n",
       "        [0.89960588, 0.62892858, 0.09374958, 0.39783492]]])"
      ]
     },
     "execution_count": 33,
     "metadata": {},
     "output_type": "execute_result"
    }
   ],
   "source": [
    "np.random.rand(2,3,4)"
   ]
  },
  {
   "cell_type": "markdown",
   "id": "a54b1c86",
   "metadata": {},
   "source": [
    "# Random Array in a given range of Number and Dimentions"
   ]
  },
  {
   "cell_type": "code",
   "execution_count": 36,
   "id": "0e0f88e1",
   "metadata": {},
   "outputs": [
    {
     "data": {
      "text/plain": [
       "array([[66, 21, 81, 34, 90],\n",
       "       [40,  3, 43, 62, 30],\n",
       "       [81, 39, 42,  2, 41]])"
      ]
     },
     "execution_count": 36,
     "metadata": {},
     "output_type": "execute_result"
    }
   ],
   "source": [
    "np.random.randint(1,100,(3,5))"
   ]
  },
  {
   "cell_type": "markdown",
   "id": "01b788ba",
   "metadata": {},
   "source": [
    "# Random Array with Choice"
   ]
  },
  {
   "cell_type": "code",
   "execution_count": 38,
   "id": "9a64c56b",
   "metadata": {},
   "outputs": [
    {
     "data": {
      "text/plain": [
       "array([[ 5, 20],\n",
       "       [30, 20],\n",
       "       [15, 40]])"
      ]
     },
     "execution_count": 38,
     "metadata": {},
     "output_type": "execute_result"
    }
   ],
   "source": [
    "np.random.choice([1,5,10,15,20,25,30,35,40,45,50],(3,2))"
   ]
  },
  {
   "cell_type": "markdown",
   "id": "e23fe4b4",
   "metadata": {},
   "source": [
    "# List convert to Numpy Array"
   ]
  },
  {
   "cell_type": "code",
   "execution_count": 39,
   "id": "c633a0e3",
   "metadata": {},
   "outputs": [],
   "source": [
    "li = [10,20,30,40,50,60,70,80,90]"
   ]
  },
  {
   "cell_type": "code",
   "execution_count": 40,
   "id": "cc5103e6",
   "metadata": {},
   "outputs": [
    {
     "data": {
      "text/plain": [
       "array([10, 20, 30, 40, 50, 60, 70, 80, 90])"
      ]
     },
     "execution_count": 40,
     "metadata": {},
     "output_type": "execute_result"
    }
   ],
   "source": [
    "np.array(li)"
   ]
  },
  {
   "cell_type": "markdown",
   "id": "e738255c",
   "metadata": {},
   "source": [
    "# Tuple convert to Numpy Array"
   ]
  },
  {
   "cell_type": "code",
   "execution_count": 41,
   "id": "b4fac413",
   "metadata": {},
   "outputs": [],
   "source": [
    "tup = (10,20,30,40,50,60,70,80,90)"
   ]
  },
  {
   "cell_type": "code",
   "execution_count": 42,
   "id": "1a520af3",
   "metadata": {},
   "outputs": [
    {
     "data": {
      "text/plain": [
       "array([10, 20, 30, 40, 50, 60, 70, 80, 90])"
      ]
     },
     "execution_count": 42,
     "metadata": {},
     "output_type": "execute_result"
    }
   ],
   "source": [
    "np.array(tup)"
   ]
  },
  {
   "cell_type": "markdown",
   "id": "12a68992",
   "metadata": {},
   "source": [
    "# set convert to Numpy Array"
   ]
  },
  {
   "cell_type": "code",
   "execution_count": 43,
   "id": "210255dd",
   "metadata": {},
   "outputs": [],
   "source": [
    "st = {10,20,30,40,50,60,70,80,90} "
   ]
  },
  {
   "cell_type": "code",
   "execution_count": 44,
   "id": "518ce9c1",
   "metadata": {},
   "outputs": [
    {
     "data": {
      "text/plain": [
       "array({70, 40, 10, 80, 50, 20, 90, 60, 30}, dtype=object)"
      ]
     },
     "execution_count": 44,
     "metadata": {},
     "output_type": "execute_result"
    }
   ],
   "source": [
    "np.array(st)"
   ]
  },
  {
   "cell_type": "markdown",
   "id": "25909bd8",
   "metadata": {},
   "source": []
  }
 ],
 "metadata": {
  "kernelspec": {
   "display_name": "base",
   "language": "python",
   "name": "python3"
  },
  "language_info": {
   "codemirror_mode": {
    "name": "ipython",
    "version": 3
   },
   "file_extension": ".py",
   "mimetype": "text/x-python",
   "name": "python",
   "nbconvert_exporter": "python",
   "pygments_lexer": "ipython3",
   "version": "3.11.4"
  }
 },
 "nbformat": 4,
 "nbformat_minor": 5
}
